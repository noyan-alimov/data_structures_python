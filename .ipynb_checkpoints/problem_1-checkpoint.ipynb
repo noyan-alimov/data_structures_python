{
 "cells": [
  {
   "cell_type": "code",
   "execution_count": 8,
   "metadata": {},
   "outputs": [
    {
     "data": {
      "text/plain": [
       "-1"
      ]
     },
     "execution_count": 8,
     "metadata": {},
     "output_type": "execute_result"
    }
   ],
   "source": [
    "class Node():\n",
    "\n",
    "    def __init__(self, value):\n",
    "        self.value = value\n",
    "        self.next = None\n",
    "\n",
    "\n",
    "class Queue():\n",
    "\n",
    "    def __init__(self):\n",
    "        self.head = None\n",
    "        self.tail = None\n",
    "\n",
    "    def enqueue(self, value):\n",
    "        new_node = Node(value)\n",
    "\n",
    "        if self.head is None:\n",
    "            self.head = new_node\n",
    "            self.tail = self.head\n",
    "        else:\n",
    "            self.tail.next = new_node\n",
    "            self.tail = self.tail.next\n",
    "\n",
    "    def dequeue(self):\n",
    "        value = self.head.value\n",
    "        self.head = self.head.next\n",
    "        return value\n",
    "\n",
    "\n",
    "\n",
    "class LRU_Cache(object):\n",
    "\n",
    "    def __init__(self, capacity):\n",
    "        # Initialize class variables\n",
    "        self.capacity = capacity\n",
    "        self.cache = {}\n",
    "        self.recents = Queue()\n",
    "\n",
    "    def get(self, key):\n",
    "        # Retrieve item from provided key. Return -1 if nonexistent. \n",
    "        if key in self.cache.keys():\n",
    "            oldest_value = self.recents.dequeue()\n",
    "            self.recents.enqueue(oldest_value)\n",
    "            self.recents.enqueue(self.cache[key])\n",
    "            return self.cache[key]\n",
    "        \n",
    "        return -1\n",
    "\n",
    "    def set(self, key, value):\n",
    "        # Set the value if the key is not present in the cache. If the cache is at capacity remove the oldest item. \n",
    "        if key not in self.cache.keys():\n",
    "            self.recents.enqueue(value)\n",
    "            self.cache[key] = value\n",
    "\n",
    "        if len(self.cache.keys()) > 5:\n",
    "            oldest_value = self.recents.dequeue()\n",
    "            self.recents.enqueue(oldest_value)\n",
    "            del self.cache[oldest_value]\n",
    "\n",
    "\n",
    "our_cache = LRU_Cache(5)\n",
    "\n",
    "our_cache.set(1, 1)\n",
    "our_cache.set(2, 2)\n",
    "our_cache.set(3, 3)\n",
    "our_cache.set(4, 4)\n",
    "\n",
    "\n",
    "our_cache.get(1)       # returns 1\n",
    "our_cache.get(2)       # returns 2\n",
    "our_cache.get(9)      # returns -1 because 9 is not present in the cache\n",
    "\n",
    "our_cache.set(5, 5) \n",
    "our_cache.set(6, 6)\n",
    "\n",
    "our_cache.get(1)   "
   ]
  },
  {
   "cell_type": "code",
   "execution_count": null,
   "metadata": {},
   "outputs": [],
   "source": []
  }
 ],
 "metadata": {
  "kernelspec": {
   "display_name": "Python 3",
   "language": "python",
   "name": "python3"
  },
  "language_info": {
   "codemirror_mode": {
    "name": "ipython",
    "version": 3
   },
   "file_extension": ".py",
   "mimetype": "text/x-python",
   "name": "python",
   "nbconvert_exporter": "python",
   "pygments_lexer": "ipython3",
   "version": "3.8.5"
  }
 },
 "nbformat": 4,
 "nbformat_minor": 4
}
